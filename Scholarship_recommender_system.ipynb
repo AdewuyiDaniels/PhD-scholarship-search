{
  "cells": [
    {
      "cell_type": "markdown",
      "metadata": {
        "id": "view-in-github",
        "colab_type": "text"
      },
      "source": [
        "<a href=\"https://colab.research.google.com/github/AdewuyiDaniels/PhD-scholarship-search/blob/main/Scholarship_recommender_system.ipynb\" target=\"_parent\"><img src=\"https://colab.research.google.com/assets/colab-badge.svg\" alt=\"Open In Colab\"/></a>"
      ]
    },
    {
      "cell_type": "markdown",
      "source": [
        "\n",
        "# INSTRUCTIONS\n",
        "\n",
        "\n",
        "1.   Click on \"File\", then \"Save a Copy in Drive.\"\n",
        "2.   Go to the \"Runtime\" menu and select \"Run all.\"\n",
        "3. Enter your field of study when prompted. Don't change anything in the code. Wait till you see this question \" Enter your area of specialization:\" Then you type your answer\n"
      ],
      "metadata": {
        "id": "IXygs5Q4OGCH"
      }
    },
    {
      "cell_type": "code",
      "execution_count": null,
      "metadata": {
        "colab": {
          "base_uri": "https://localhost:8080/"
        },
        "id": "pnXVYtawKlzF",
        "outputId": "56ff7639-46e8-4b03-fb37-2251820a11d4"
      },
      "outputs": [
        {
          "output_type": "stream",
          "name": "stdout",
          "text": [
            "Collecting fuzzywuzzy\n",
            "  Downloading fuzzywuzzy-0.18.0-py2.py3-none-any.whl (18 kB)\n",
            "Installing collected packages: fuzzywuzzy\n",
            "Successfully installed fuzzywuzzy-0.18.0\n"
          ]
        }
      ],
      "source": [
        "pip install fuzzywuzzy"
      ]
    },
    {
      "cell_type": "code",
      "source": [],
      "metadata": {
        "id": "v0xlJoLwYuoQ"
      },
      "execution_count": null,
      "outputs": []
    },
    {
      "cell_type": "code",
      "execution_count": null,
      "metadata": {
        "id": "gWa8WPbDM3I8",
        "colab": {
          "base_uri": "https://localhost:8080/"
        },
        "outputId": "51155e05-2d4e-4ff7-d22a-be67fb6881da"
      },
      "outputs": [
        {
          "output_type": "stream",
          "name": "stderr",
          "text": [
            "/usr/local/lib/python3.10/dist-packages/fuzzywuzzy/fuzz.py:11: UserWarning: Using slow pure-python SequenceMatcher. Install python-Levenshtein to remove this warning\n",
            "  warnings.warn('Using slow pure-python SequenceMatcher. Install python-Levenshtein to remove this warning')\n"
          ]
        }
      ],
      "source": [
        "# @title Importing libraries\n",
        "import pandas as pd\n",
        "import numpy as np\n",
        "from fuzzywuzzy import fuzz\n",
        "\n",
        "scholarship_df = pd.read_csv(\"https://raw.githubusercontent.com/AskBarbara/CSV/main/scholarship_df.csv\")\n"
      ]
    },
    {
      "cell_type": "code",
      "source": [
        "# @title Area of interest request\n",
        "\n",
        "\n",
        "# Ask the user to enter their area of specialization\n",
        "user_specialization = input(\"Enter your area of specialization: \").lower()\n",
        "\n",
        "# Convert the 'Area of Specialisation' column in the DataFrame to lowercase for case-insensitive matching\n",
        "scholarship_df['Area of specialisation'] = scholarship_df['Area of specialisation'].str.lower()\n",
        "\n",
        "# Create a list of specializations from your DataFrame\n",
        "specializations = scholarship_df['Area of specialisation'].unique().tolist()\n",
        "\n",
        "# Initialize a dictionary to store similarity scores\n",
        "similarity_scores = {}\n",
        "\n",
        "# Calculate similarity scores between the user's input and specializations\n",
        "for spec in specializations:\n",
        "    similarity_score = fuzz.partial_ratio(user_specialization, spec.lower())\n",
        "    similarity_scores[spec] = similarity_score\n",
        "\n",
        "# Sort specializations by similarity score in descending order\n",
        "sorted_specializations = sorted(similarity_scores.items(), key=lambda x: x[1], reverse=True)\n",
        "\n",
        "# Extract matched specializations with a similarity score threshold (e.g., 80)\n",
        "threshold = 80  # Adjust as needed\n",
        "matched_specializations = [spec for spec, score in sorted_specializations if score >= threshold]\n",
        "\n",
        "# Filter scholarships based on matched specializations\n",
        "recommended_scholarships = scholarship_df[scholarship_df['Area of specialisation'].isin(matched_specializations)]\n",
        "\n",
        "# Remove duplicate scholarships based on their names\n",
        "recommended_scholarships = recommended_scholarships.drop_duplicates(subset=['Name'])\n",
        "\n",
        "# Check if there are any recommended scholarships\n",
        "if recommended_scholarships.empty:\n",
        "    print(f\"Unfortunately, there are no scholarships for your specialization. Try another closely related field or All disciplines.\")\n",
        "else:\n",
        "    num_scholarships = len(recommended_scholarships)\n",
        "    print(f\"I have {num_scholarships} suggestions for you in {user_specialization}. Here are the scholarships/universities to start your search:\\n\")\n",
        "    for index, scholarship in recommended_scholarships.iterrows():\n",
        "        print(f\"• {scholarship['Name']}\")\n"
      ],
      "metadata": {
        "id": "P8T8yEefKvcE",
        "colab": {
          "base_uri": "https://localhost:8080/"
        },
        "outputId": "17d70b6e-29dd-467a-df02-5b56742438b9"
      },
      "execution_count": null,
      "outputs": [
        {
          "output_type": "stream",
          "name": "stdout",
          "text": [
            "Enter your area of specialization: ecotxicology\n",
            "I have 80 suggestions for you in ecotxicology. Here are the scholarships/universities to start your search:\n",
            "\n",
            "• Roslin Foundation - University of Edinburg\n",
            "• University of Cambridge\n",
            "• Brock University\n",
            "• University of Copenhagen\n",
            "• University of Padova\n",
            "• University of Maine\n",
            "• San Jose State University\n",
            "• Universitat Reginsburg\n",
            "• Utrecht university- available position\n",
            "• Utrecht university\n",
            "• Azrieli faculty oF medicine\n",
            "• Canadian society for ecology and evolution \n",
            "• Raby lab - University of Trent \n",
            "• Hintz lab - University of Toledo\n",
            "• KU Leuven\n",
            "• Vienna International Postdoctoral (VIP2) Fellowship Program\n",
            "• Austria database for scholarship and research grant \n",
            "• University of Guelph\n",
            "• User lab - University of Texas Airlington\n",
            "• Graduate school opportunities in Bioinformatics, genomics and life sciences \n",
            "• University of Milan\n",
            "• Vanderbilt university \n",
            "• VUB\n",
            "• Caetano lab\n",
            "• Physics of parasitism\n",
            "• University of Bonn\n",
            "• University of Delaware\n",
            "• Leibniz center for tropical marine research\n",
            "• PhD thesis in evolutionary ecology of rhizobia-legume interactions - INRAE\n",
            "• Max planck institute\n",
            "• Center for environmental research\n",
            "• IRSD & CNRS\n",
            "• University of Washington \n",
            "• University of Nevada, Reno \n",
            "• Karin kettenring lab\n",
            "• Ané Lab - University of Wisconsin\n",
            "• University of Liege\n",
            "• University of Calgary\n",
            "• RTG PhD positions\n",
            "• University of Münster\n",
            "• University of Luxembourg \n",
            "• Bioscan\n",
            "•  Mildred schel junior center - Cancer research \n",
            "• Acadia University\n",
            "• University of Bern\n",
            "• Freie Universität\n",
            "• University of Saskatchewan \n",
            "• University of Leicester - Future 100 PhD Scholarships\n",
            "• Okinawa institute of science and technology (OIST)\n",
            "• Mississippi state university \n",
            "• KU Leuven \n",
            "• Science at Leuven Scholarship \n",
            "• University of Laval \n",
            "• Centre de Biophysique Moléculaire (CBM)\n",
            "• Universite Laval\n",
            "• https://www.uni-hohenheim.de/en/english\n",
            "• Helmholtz -Centre for Environmental Research\n",
            "• University of California\n",
            "• 2022 Prospectus for Chinese Government Scholarship Program of Lanzhou University\n",
            "• Queen’s University, Belfast\n",
            "• Deakin University\n",
            "• Pennsylvania State University\n",
            "• Charles University \n",
            "• Thermal ecology group\n",
            "• Utrecht University \n",
            "• Queen’s University - Pain Chronobiology & Neuroimmunology Lab \n",
            "• University of Toronto\n",
            "• Eiffel Excellence Scholarship Programme\n",
            "• Queen Mary University \n",
            "• Lifetime  CDT\n",
            "• Institute  curie research center \n",
            "• Max Planck research school\n",
            "• University of Agder\n",
            "• University of Turku\n",
            "• DTU\n",
            "• Queens university \n",
            "• Florida state university \n",
            "• University of Dayton\n",
            "• Villasenor lab - BMC Munich\n",
            "• Vienna Biocenter\n"
          ]
        }
      ]
    }
  ],
  "metadata": {
    "colab": {
      "provenance": [],
      "include_colab_link": true
    },
    "kernelspec": {
      "display_name": "Python 3",
      "language": "python",
      "name": "python3"
    },
    "language_info": {
      "codemirror_mode": {
        "name": "ipython",
        "version": 3
      },
      "file_extension": ".py",
      "mimetype": "text/x-python",
      "name": "python",
      "nbconvert_exporter": "python",
      "pygments_lexer": "ipython3",
      "version": "3.9.16"
    }
  },
  "nbformat": 4,
  "nbformat_minor": 0
}